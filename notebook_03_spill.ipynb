{
 "cells": [
  {
   "cell_type": "code",
   "execution_count": 18,
   "id": "ab274a02",
   "metadata": {},
   "outputs": [],
   "source": [
    "%matplotlib notebook"
   ]
  },
  {
   "cell_type": "code",
   "execution_count": 19,
   "id": "582f7251",
   "metadata": {},
   "outputs": [],
   "source": [
    "import numpy as np\n",
    "import xtrack as xt\n",
    "import matplotlib.pyplot as plt"
   ]
  },
  {
   "cell_type": "code",
   "execution_count": 20,
   "id": "f875b1e4",
   "metadata": {},
   "outputs": [
    {
     "data": {
      "application/vnd.jupyter.widget-view+json": {
       "model_id": "e466248aa3634c3995c6e2d209b14122",
       "version_major": 2,
       "version_minor": 0
      },
      "text/plain": [
       "Loading line from dict:   0%|          | 0/221 [00:00<?, ?it/s]"
      ]
     },
     "metadata": {},
     "output_type": "display_data"
    },
    {
     "name": "stdout",
     "output_type": "stream",
     "text": [
      "Done loading line from dict.           \n"
     ]
    }
   ],
   "source": [
    "line = xt.Line.from_json('pimms_02_tuned.json')"
   ]
  },
  {
   "cell_type": "code",
   "execution_count": 21,
   "id": "82aac903",
   "metadata": {},
   "outputs": [
    {
     "name": "stdout",
     "output_type": "stream",
     "text": [
      "Found suitable prebuilt kernel `default_only_xtrack`.\n",
      "Found suitable prebuilt kernel `only_xtrack_frozen_energy`.\n"
     ]
    }
   ],
   "source": [
    "tw = line.twiss(method='4d')\n",
    "\n",
    "num_particles = 5000\n",
    "x_norm = np.random.normal(size=num_particles)\n",
    "px_norm = np.random.normal(size=num_particles)\n",
    "y_norm = np.random.normal(size=num_particles)\n",
    "py_norm = np.random.normal(size=num_particles)\n",
    "delta = 5e-4 * np.random.normal(size=num_particles)\n",
    "particles = line.build_particles(\n",
    "    weight=1e10/num_particles,\n",
    "    method='4d',\n",
    "    nemitt_x=1e-6, nemitt_y=1e-6,\n",
    "    x_norm=x_norm, px_norm=px_norm, y_norm=y_norm, py_norm=py_norm,\n",
    "    delta=delta)\n",
    "tab = tw.get_normalized_coordinates(particles)"
   ]
  },
  {
   "cell_type": "code",
   "execution_count": 22,
   "id": "7e04e786",
   "metadata": {},
   "outputs": [
    {
     "name": "stdout",
     "output_type": "stream",
     "text": [
      "Compiling ContextCpu kernels...\n"
     ]
    },
    {
     "name": "stderr",
     "output_type": "stream",
     "text": [
      "ld: warning: -pie being ignored. It is only used when linking a main executable\n"
     ]
    },
    {
     "name": "stdout",
     "output_type": "stream",
     "text": [
      "Done compiling ContextCpu kernels.\n"
     ]
    },
    {
     "data": {
      "text/plain": [
       "<xtrack.tracker.Tracker at 0x2bb3de500>"
      ]
     },
     "execution_count": 22,
     "metadata": {},
     "output_type": "execute_result"
    }
   ],
   "source": [
    "line.discard_tracker()\n",
    "\n",
    "class SpillExcitation:\n",
    "    def __init__(self):\n",
    "        self.intensity = []\n",
    "        self.amplitude = 1e-6\n",
    "        self.gain = 0.\n",
    "        self.target_rate = 1e10/ 15000\n",
    "        self.n_ave = 100\n",
    "        self._i_turn = 0\n",
    "\n",
    "        self._amplitude_log = []\n",
    "\n",
    "    def track(self, p):\n",
    "        \n",
    "        self.intensity.append(np.sum(p.weight[p.state > 0]))\n",
    "        self._amplitude_log.append(self.amplitude)\n",
    "        \n",
    "        p.px[p.state > 0] += self.amplitude * np.random.normal(size=np.sum(p.state > 0))\n",
    "        \n",
    "        if self._i_turn > self.n_ave:\n",
    "        \n",
    "            rate = (self.intensity[self._i_turn - self.n_ave] - self.intensity[self._i_turn]) / self.n_ave\n",
    "            self.amplitude -= self.amplitude * self.gain * (rate - self.target_rate)/self.target_rate\n",
    "\n",
    "        self._i_turn += 1\n",
    "\n",
    "line.insert_element('spill_exc', SpillExcitation(), at_s=0)\n",
    "import xobjects as xo\n",
    "line.build_tracker(_context=xo.ContextCpu('auto'))"
   ]
  },
  {
   "cell_type": "code",
   "execution_count": 23,
   "id": "dcd50074",
   "metadata": {},
   "outputs": [],
   "source": [
    "line.functions['fun_xsext'] = xt.FunctionPieceWiseLinear(x=[0, 0.5e-3], y=[0, 1.])\n",
    "line.vars['kse1'] = line.vv['kse1'] * line.functions['fun_xsext'](line.vars['t_turn_s'])\n",
    "line.vars['kse2'] = line.vv['kse2'] * line.functions['fun_xsext'](line.vars['t_turn_s'])\n",
    "\n",
    "# line.functions['fun_gain'] = xt.FunctionPieceWiseLinear(x=[0, 0.25e-3, 0.5e-3], y=[0, 0, .001])\n",
    "# line.vars['gain'] = line.functions['fun_gain'](line.vars['t_turn_s'])\n",
    "# line.element_refs['spill_exc'].gain = line.vars['gain']\n",
    "\n",
    "line.element_refs['spill_exc'].gain = 1e-3\n",
    "\n",
    "line['septum'].max_x = 0.035"
   ]
  },
  {
   "cell_type": "code",
   "execution_count": 24,
   "id": "e32bdf9b",
   "metadata": {},
   "outputs": [
    {
     "data": {
      "application/vnd.jupyter.widget-view+json": {
       "model_id": "186d3a6a830447319b4b8945871236b4",
       "version_major": 2,
       "version_minor": 0
      },
      "text/plain": [
       "Tracking:   0%|          | 0/15000 [00:00<?, ?it/s]"
      ]
     },
     "metadata": {},
     "output_type": "display_data"
    },
    {
     "name": "stdout",
     "output_type": "stream",
     "text": [
      "Compiling ContextCpu kernels...\n"
     ]
    },
    {
     "name": "stderr",
     "output_type": "stream",
     "text": [
      "ld: warning: -pie being ignored. It is only used when linking a main executable\n"
     ]
    },
    {
     "name": "stdout",
     "output_type": "stream",
     "text": [
      "Done compiling ContextCpu kernels.\n"
     ]
    }
   ],
   "source": [
    "line.enable_time_dependent_vars = True\n",
    "line.track(particles, num_turns=15000, with_progress=True, log_vars=('kse1', 'kse2'))"
   ]
  },
  {
   "cell_type": "code",
   "execution_count": null,
   "id": "2ddb9122",
   "metadata": {
    "scrolled": false
   },
   "outputs": [],
   "source": [
    "plt.figure(1000)\n",
    "ax1 = plt.subplot(3,1,1)\n",
    "plt.plot(line['spill_exc']._amplitude_log)\n",
    "\n",
    "ax2 = plt.subplot(3,1,2, sharex=ax1)\n",
    "plt.plot(line['spill_exc'].intensity)\n",
    "plt.ylim(bottom=0)\n",
    "\n",
    "# ax3 = plt.subplot(4,1,3, sharex=ax1)\n",
    "# plt.plot(line['spill_exc']._rate_log)\n",
    "# plt.axhline(line['spill_exc'].target_rate, color='grey')\n",
    "\n",
    "ax4 = plt.subplot(3,1,3, sharex=ax1)\n",
    "plt.plot(line.log_vars_last_track['kse1'])\n",
    "plt.plot(line.log_vars_last_track['kse2'])\n",
    "\n",
    "plt.figure(1001)\n",
    "plt.plot(particles.x, particles.px, '.', markersize=2)\n",
    "# plt.plot(x_fit_geom, px_fit_geom, 'grey')\n",
    "plt.show()"
   ]
  },
  {
   "cell_type": "code",
   "execution_count": null,
   "id": "d97448b4",
   "metadata": {},
   "outputs": [],
   "source": [
    "len(line.log_vars_last_track['kse1'])"
   ]
  },
  {
   "cell_type": "code",
   "execution_count": null,
   "id": "2d5fe98e",
   "metadata": {},
   "outputs": [],
   "source": []
  },
  {
   "cell_type": "code",
   "execution_count": null,
   "id": "c8d5cd4a",
   "metadata": {},
   "outputs": [],
   "source": []
  }
 ],
 "metadata": {
  "kernelspec": {
   "display_name": "Python 3 (ipykernel)",
   "language": "python",
   "name": "python3"
  },
  "language_info": {
   "codemirror_mode": {
    "name": "ipython",
    "version": 3
   },
   "file_extension": ".py",
   "mimetype": "text/x-python",
   "name": "python",
   "nbconvert_exporter": "python",
   "pygments_lexer": "ipython3",
   "version": "3.10.9"
  }
 },
 "nbformat": 4,
 "nbformat_minor": 5
}
