{
 "cells": [
  {
   "cell_type": "code",
   "execution_count": 1,
   "id": "6a436ed3",
   "metadata": {},
   "outputs": [],
   "source": [
    "%matplotlib notebook"
   ]
  },
  {
   "cell_type": "code",
   "execution_count": 2,
   "id": "66ebb648",
   "metadata": {},
   "outputs": [
    {
     "name": "stderr",
     "output_type": "stream",
     "text": [
      "/Users/giadarol/xsuite_packages/xtrack/xtrack/progress_indicator.py:95: TqdmExperimentalWarning: Using `tqdm.autonotebook.tqdm` in notebook mode. Use `tqdm.tqdm` instead to force console mode (e.g. in jupyter console)\n",
      "  from tqdm.autonotebook import tqdm\n"
     ]
    }
   ],
   "source": [
    "import numpy as np\n",
    "import xtrack as xt\n",
    "import matplotlib.pyplot as plt"
   ]
  },
  {
   "cell_type": "code",
   "execution_count": 3,
   "id": "f973f395",
   "metadata": {},
   "outputs": [
    {
     "data": {
      "application/vnd.jupyter.widget-view+json": {
       "model_id": "8e2d944f7fa64e1a9abb22e8c3c4c387",
       "version_major": 2,
       "version_minor": 0
      },
      "text/plain": [
       "Loading line from dict:   0%|          | 0/220 [00:00<?, ?it/s]"
      ]
     },
     "metadata": {},
     "output_type": "display_data"
    },
    {
     "name": "stdout",
     "output_type": "stream",
     "text": [
      "Done loading line from dict.           \n"
     ]
    }
   ],
   "source": [
    "line = xt.Line.from_json('pimms_00_optics.json')\n",
    "line.configure_bend_model(core='bend-kick-bend', edge='full')"
   ]
  },
  {
   "cell_type": "code",
   "execution_count": 4,
   "id": "cd1e9b48",
   "metadata": {},
   "outputs": [],
   "source": [
    "line.insert_element(\n",
    "            'septum',\n",
    "            xt.LimitRect(min_x=-0.1, max_x=0.1, min_y=-0.1, max_y=0.1),\n",
    "            index='es_septum')"
   ]
  },
  {
   "cell_type": "code",
   "execution_count": null,
   "id": "88593de4",
   "metadata": {},
   "outputs": [
    {
     "name": "stdout",
     "output_type": "stream",
     "text": [
      "Compiling ContextCpu kernels...\n"
     ]
    }
   ],
   "source": [
    "optq = line.match(\n",
    "    solve=False,\n",
    "    method='4d',\n",
    "    vary=[\n",
    "        xt.VaryList(['kqf1', 'kqf2'], limits=(0, 1),  step=1e-3, tag='qf'),\n",
    "        xt.Vary('kqd', limits=(-1, 0), step=1e-3, tag='qd'),\n",
    "        xt.VaryList(['ksf', 'ksd'], step=1e-3),\n",
    "        \n",
    "    ],\n",
    "    targets=[\n",
    "        xt.TargetSet(qx=1.663, qy=1.72, tol=1e-6),\n",
    "        xt.TargetSet(dqx=-0.1, dqy=-0.1, tol=1e-3, tag=\"chrom\"),\n",
    "        xt.Target(dx = 0, at='es_septum', tol=1e-6)\n",
    "    ]\n",
    ")\n",
    "optq.step(20)"
   ]
  },
  {
   "cell_type": "code",
   "execution_count": null,
   "id": "923f2788",
   "metadata": {},
   "outputs": [],
   "source": [
    "tw = line.twiss(method='4d')"
   ]
  },
  {
   "cell_type": "code",
   "execution_count": null,
   "id": "b8e1e234",
   "metadata": {},
   "outputs": [],
   "source": [
    "line.vars['kse1'] = 1\n",
    "line.vars['kse2'] = -6.5"
   ]
  },
  {
   "cell_type": "code",
   "execution_count": null,
   "id": "437cf4db",
   "metadata": {},
   "outputs": [],
   "source": [
    "def characterize_phase_space_at_septum(line, num_turns=2000, plot=False):\n",
    "    \n",
    "                                       \n",
    "    # Localize transition between stable and unstable\n",
    "    x_septum = 3.5e-2\n",
    "\n",
    "    x_stable = 0\n",
    "    x_unstable = 3e-2\n",
    "    while x_unstable - x_stable > 1e-6:\n",
    "        x_test = (x_stable + x_unstable) / 2\n",
    "        p = line.build_particles(x=x_test, px=0)\n",
    "        line.track(p, num_turns=num_turns, turn_by_turn_monitor=True)\n",
    "        mon_test = line.record_last_track\n",
    "        if (mon_test.x > x_septum).any():\n",
    "            x_unstable = x_test\n",
    "        else:\n",
    "            x_stable = x_test \n",
    "    \n",
    "    p = line.build_particles(x=[x_stable, x_unstable], px=0)\n",
    "    line.track(p, num_turns=num_turns, turn_by_turn_monitor=True)\n",
    "    mon_separatrix = line.record_last_track\n",
    "    nc_sep = tw.get_normalized_coordinates(mon_separatrix)                                \n",
    "    \n",
    "    z_triang = nc_sep.x_norm[0, :] + 1j * nc_sep.px_norm[0, :]\n",
    "    r_triang = np.abs(z_triang)\n",
    "    \n",
    "    # Find fixed points\n",
    "    i_fp1 = np.argmax(r_triang)\n",
    "    z_fp1 = z_triang[i_fp1]\n",
    "    r_fp1 = np.abs(z_fp1)\n",
    "\n",
    "    mask_fp2 = np.abs(z_triang - z_fp1 * np.exp(1j * 2 / 3 * np.pi)) < 0.2 * r_fp1\n",
    "    i_fp2 = np.argmax(r_triang * mask_fp2)\n",
    "\n",
    "    mask_fp3 = np.abs(z_triang - z_fp1 * np.exp(-1j * 2 / 3 * np.pi)) < 0.2 * r_fp1\n",
    "    i_fp3 = np.argmax(r_triang * mask_fp3)\n",
    "\n",
    "    x_norm_fp = np.array([nc_sep.x_norm[0, i_fp1],\n",
    "                          nc_sep.x_norm[0, i_fp2],\n",
    "                          nc_sep.x_norm[0, i_fp3]])\n",
    "    px_norm_fp = np.array([nc_sep.px_norm[0, i_fp1],\n",
    "                           nc_sep.px_norm[0, i_fp2],\n",
    "                           nc_sep.px_norm[0, i_fp3]])\n",
    "    \n",
    "    stable_area = np.linalg.det([x_norm_fp, px_norm_fp, [1, 1, 1]])\n",
    "\n",
    "    # Measure slope of the separatrix at the semptum\n",
    "    x_separ = mon_separatrix.x[1, :]\n",
    "    px_separ = mon_separatrix.px[1, :]\n",
    "    x_norm_separ = nc_sep.x_norm[1, :]\n",
    "    px_norm_separ = nc_sep.px_norm[1, :]\n",
    "    \n",
    "    x_separ[px_norm_separ < -1e-2] = 99999999. # TEEEEEST\n",
    "        \n",
    "    i_septum = np.argmin(np.abs(x_separ - x_septum))\n",
    "\n",
    "    poly_sep = np.polyfit([x_separ[i_septum + 3], x_separ[i_septum - 3]],\n",
    "                             [px_separ[i_septum + 3], px_separ[i_septum - 3]],\n",
    "                              deg=1)\n",
    "    slope_separatrix = poly_sep[0]\n",
    "\n",
    "    if plot:\n",
    "        x = np.linspace(0, 1.2*x_stable, 15)\n",
    "        particles = line.build_particles(x=x, px=0)\n",
    "        line.track(particles, num_turns=num_turns, turn_by_turn_monitor=True)\n",
    "        mon = line.record_last_track\n",
    "        nc = tw.get_normalized_coordinates(mon) \n",
    "\n",
    "        plt.figure(figsize=(10, 5))\n",
    "        ax_geom = plt.subplot(1, 2, 1)\n",
    "        plt.plot(mon.x.T, mon.px.T, '.', markersize=1, color='C0')\n",
    "        plt.ylabel(r'$p_x$')\n",
    "        plt.xlabel(r'$x$ [m]')\n",
    "        plt.xlim(-5e-2, 5e-2)\n",
    "        plt.ylim(-5e-3, 5e-3)\n",
    "        ax_norm = plt.subplot(1, 2, 2)\n",
    "        plt.plot(nc.x_norm.T * 1e3, nc.px_norm.T * 1e3,\n",
    "                 '.', markersize=1, color='C0')\n",
    "        plt.xlim(-15, 15)\n",
    "        plt.ylim(-15, 15)\n",
    "        plt.gca().set_aspect('equal', adjustable='datalim')\n",
    "\n",
    "        plt.xlabel(r'$\\hat{x}$ [$10^{-3}$]')\n",
    "        plt.ylabel(r'$\\hat{y}$ [$10^{-3}$]')\n",
    "\n",
    "        # Plot separatrix\n",
    "        ax_geom.plot(mon_separatrix.x[0, :], mon_separatrix.px[0, :], '.', color='C2')\n",
    "        ax_geom.plot(mon_separatrix.x[1, :], mon_separatrix.px[1, :], '.', color='C1')\n",
    "        ax_norm.plot(nc_sep.x_norm[0, :] * 1e3, nc_sep.px_norm[0, :] * 1e3, '.', color='C2')\n",
    "        ax_norm.plot(nc_sep.x_norm[1, :] * 1e3, nc_sep.px_norm[1, :] * 1e3, '.', color='C1')\n",
    "        ax_norm.plot(x_norm_fp*1e3, px_norm_fp*1e3, '*', markersize=10, color='k')\n",
    "\n",
    "        x_plt = [x_septum - 1e-2, x_septum + 1e-2]\n",
    "        ax_geom.plot(x_plt, np.polyval(poly_sep, x_plt), '--k', linewidth=3)\n",
    "                                       \n",
    "    return {\n",
    "        'slope_at_septum': slope_separatrix,\n",
    "        'stable_area': stable_area,\n",
    "        'x_norm_fp': x_norm_fp,\n",
    "        'px_norm_fp': x_norm_fp,\n",
    "    }"
   ]
  },
  {
   "cell_type": "code",
   "execution_count": null,
   "id": "d1c9169a",
   "metadata": {},
   "outputs": [],
   "source": []
  },
  {
   "cell_type": "code",
   "execution_count": null,
   "id": "b28a9d65",
   "metadata": {},
   "outputs": [],
   "source": [
    "%time characterize_phase_space_at_septum(line, num_turns=1000)"
   ]
  },
  {
   "cell_type": "code",
   "execution_count": null,
   "id": "5d92c653",
   "metadata": {
    "scrolled": false
   },
   "outputs": [],
   "source": [
    "characterize_phase_space_at_septum(line, num_turns=1000, plot=True)"
   ]
  },
  {
   "cell_type": "code",
   "execution_count": null,
   "id": "0648f44e",
   "metadata": {},
   "outputs": [],
   "source": [
    "class ActionSeparatrix(xt.Action):\n",
    "    \n",
    "    def __init__(self, line):\n",
    "        self.line = line\n",
    "        \n",
    "    def run(self):\n",
    "        out = characterize_phase_space_at_septum(self.line)\n",
    "        return out"
   ]
  },
  {
   "cell_type": "code",
   "execution_count": null,
   "id": "2cedcfa7",
   "metadata": {},
   "outputs": [],
   "source": [
    "action = ActionSeparatrix(line)"
   ]
  },
  {
   "cell_type": "code",
   "execution_count": null,
   "id": "e6821aa1",
   "metadata": {},
   "outputs": [],
   "source": [
    "action.run()"
   ]
  },
  {
   "cell_type": "code",
   "execution_count": null,
   "id": "70f9d22d",
   "metadata": {},
   "outputs": [],
   "source": [
    "opt = line.match(\n",
    "    solve=False,\n",
    "    method='4d',\n",
    "    vary=xt.VaryList(['kse1', 'kse2'], step=0.5, tag='resonance',\n",
    "                     limits=[-7, 7]),\n",
    "    targets=[\n",
    "        action.target('stable_area', 1.e-4, tol=1e-5, weight=100), \n",
    "        action.target('slope_at_septum', 0.03, tol=5e-4)\n",
    "    ]\n",
    ")"
   ]
  },
  {
   "cell_type": "code",
   "execution_count": null,
   "id": "894ac092",
   "metadata": {},
   "outputs": [],
   "source": [
    "opt.target_status()"
   ]
  },
  {
   "cell_type": "code",
   "execution_count": null,
   "id": "c24979ba",
   "metadata": {},
   "outputs": [],
   "source": [
    "def err_fun(x):\n",
    "    out = opt._err(x, check_limits=False)\n",
    "    #print(f'x = {repr(x)}, out = {out}')\n",
    "    return out\n",
    "\n",
    "bounds = np.array([vv.limits for vv in opt._err.vary])\n",
    "opt._err.return_scalar = True\n",
    "import pybobyqa\n",
    "soln = pybobyqa.solve(err_fun, x0=opt.log().vary[0, :], bounds=bounds.T,\n",
    "            rhobeg=5, rhoend=1e-4, maxfun=30, objfun_has_noise=True,\n",
    "            seek_global_minimum=True)\n",
    "err_fun(soln.x) # set it to the best solution\n",
    "opt.tag('pybobyqa')\n",
    "opt.target_status()"
   ]
  },
  {
   "cell_type": "code",
   "execution_count": null,
   "id": "e8d2cd86",
   "metadata": {},
   "outputs": [],
   "source": [
    "opt.vary_status()"
   ]
  },
  {
   "cell_type": "code",
   "execution_count": null,
   "id": "7acbb153",
   "metadata": {},
   "outputs": [],
   "source": [
    "characterize_phase_space_at_septum(line, num_turns=1000, plot=True)"
   ]
  },
  {
   "cell_type": "code",
   "execution_count": null,
   "id": "2ec2f1dc",
   "metadata": {},
   "outputs": [],
   "source": []
  },
  {
   "cell_type": "code",
   "execution_count": null,
   "id": "b474ce14",
   "metadata": {},
   "outputs": [],
   "source": []
  }
 ],
 "metadata": {
  "kernelspec": {
   "display_name": "Python 3 (ipykernel)",
   "language": "python",
   "name": "python3"
  },
  "language_info": {
   "codemirror_mode": {
    "name": "ipython",
    "version": 3
   },
   "file_extension": ".py",
   "mimetype": "text/x-python",
   "name": "python",
   "nbconvert_exporter": "python",
   "pygments_lexer": "ipython3",
   "version": "3.10.9"
  }
 },
 "nbformat": 4,
 "nbformat_minor": 5
}
