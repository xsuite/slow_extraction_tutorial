{
 "cells": [
  {
   "cell_type": "code",
   "execution_count": 1,
   "id": "6a436ed3",
   "metadata": {},
   "outputs": [],
   "source": [
    "%matplotlib notebook"
   ]
  },
  {
   "cell_type": "code",
   "execution_count": 2,
   "id": "66ebb648",
   "metadata": {},
   "outputs": [],
   "source": [
    "import numpy as np\n",
    "import xtrack as xt\n",
    "import matplotlib.pyplot as plt"
   ]
  },
  {
   "cell_type": "code",
   "execution_count": null,
   "id": "f973f395",
   "metadata": {},
   "outputs": [],
   "source": [
    "line = xt.Line.from_json('pimms_00_optics.json')\n",
    "line.configure_bend_model(edge='full', core='adaptive', num_multipole_kicks=10)"
   ]
  },
  {
   "cell_type": "code",
   "execution_count": null,
   "id": "cd1e9b48",
   "metadata": {},
   "outputs": [],
   "source": [
    "\n",
    "line.build_tracker()"
   ]
  },
  {
   "cell_type": "code",
   "execution_count": null,
   "id": "b8e1e234",
   "metadata": {},
   "outputs": [],
   "source": [
    "line.vars['kse1'] = 1\n",
    "line.vars['kse2'] = -6.5"
   ]
  },
  {
   "cell_type": "code",
   "execution_count": null,
   "id": "437cf4db",
   "metadata": {},
   "outputs": [],
   "source": [
    "from phase_space_characterization import characterize_phase_space_at_septum"
   ]
  },
  {
   "cell_type": "code",
   "execution_count": null,
   "id": "b28a9d65",
   "metadata": {},
   "outputs": [],
   "source": [
    "%time characterize_phase_space_at_septum(line, num_turns=1000)"
   ]
  },
  {
   "cell_type": "code",
   "execution_count": null,
   "id": "5d92c653",
   "metadata": {
    "scrolled": false
   },
   "outputs": [],
   "source": [
    "characterize_phase_space_at_septum(line, num_turns=1000, plot=True)"
   ]
  },
  {
   "cell_type": "code",
   "execution_count": null,
   "id": "0648f44e",
   "metadata": {},
   "outputs": [],
   "source": [
    "class ActionSeparatrix(xt.Action):\n",
    "    \n",
    "    def __init__(self, line):\n",
    "        self.line = line\n",
    "        \n",
    "    def run(self):\n",
    "        out = characterize_phase_space_at_septum(self.line)\n",
    "        return out"
   ]
  },
  {
   "cell_type": "code",
   "execution_count": null,
   "id": "2cedcfa7",
   "metadata": {},
   "outputs": [],
   "source": [
    "action = ActionSeparatrix(line)"
   ]
  },
  {
   "cell_type": "code",
   "execution_count": null,
   "id": "e6821aa1",
   "metadata": {},
   "outputs": [],
   "source": [
    "action.run()"
   ]
  },
  {
   "cell_type": "code",
   "execution_count": null,
   "id": "70f9d22d",
   "metadata": {},
   "outputs": [],
   "source": [
    "opt = line.match(\n",
    "    solve=False,\n",
    "    method='4d',\n",
    "    vary=xt.VaryList(['kse1', 'kse2'], step=0.5, limits=[-7, 7]),\n",
    "    targets=[\n",
    "        action.target('stable_area', 1.e-4, tol=1e-5, weight=100), \n",
    "        action.target('dpx_dx_at_septum', 0.03, tol=5e-4)\n",
    "    ]\n",
    ")"
   ]
  },
  {
   "cell_type": "code",
   "execution_count": null,
   "id": "894ac092",
   "metadata": {},
   "outputs": [],
   "source": [
    "opt.target_status()"
   ]
  },
  {
   "cell_type": "code",
   "execution_count": null,
   "id": "c24979ba",
   "metadata": {},
   "outputs": [],
   "source": [
    "def err_fun(x):\n",
    "    out = opt._err(x, check_limits=False)\n",
    "    #print(f'x = {repr(x)}, out = {out}')\n",
    "    return out\n",
    "\n",
    "bounds = np.array([vv.limits for vv in opt._err.vary])\n",
    "opt._err.return_scalar = True\n",
    "import pybobyqa\n",
    "soln = pybobyqa.solve(err_fun, x0=opt.log().vary[0, :], bounds=bounds.T,\n",
    "            rhobeg=5, rhoend=1e-4, maxfun=30, objfun_has_noise=True,\n",
    "            seek_global_minimum=True)\n",
    "err_fun(soln.x) # set it to found solution\n",
    "opt.tag('pybobyqa') # Add point to optimization log\n",
    "opt.target_status()"
   ]
  },
  {
   "cell_type": "code",
   "execution_count": null,
   "id": "6973b3f3",
   "metadata": {},
   "outputs": [],
   "source": [
    "opt.log()"
   ]
  },
  {
   "cell_type": "code",
   "execution_count": null,
   "id": "e8d2cd86",
   "metadata": {},
   "outputs": [],
   "source": [
    "opt.vary_status()"
   ]
  },
  {
   "cell_type": "code",
   "execution_count": null,
   "id": "7acbb153",
   "metadata": {
    "scrolled": true
   },
   "outputs": [],
   "source": [
    "characterize_phase_space_at_septum(line, num_turns=1000, plot=True)"
   ]
  },
  {
   "cell_type": "code",
   "execution_count": null,
   "id": "a8d56744",
   "metadata": {},
   "outputs": [],
   "source": [
    "line.to_json('pimms_02_tuned.json')"
   ]
  },
  {
   "cell_type": "code",
   "execution_count": null,
   "id": "4c1b6cc7",
   "metadata": {},
   "outputs": [],
   "source": []
  }
 ],
 "metadata": {
  "kernelspec": {
   "display_name": "Python 3 (ipykernel)",
   "language": "python",
   "name": "python3"
  },
  "language_info": {
   "codemirror_mode": {
    "name": "ipython",
    "version": 3
   },
   "file_extension": ".py",
   "mimetype": "text/x-python",
   "name": "python",
   "nbconvert_exporter": "python",
   "pygments_lexer": "ipython3",
   "version": "3.10.9"
  }
 },
 "nbformat": 4,
 "nbformat_minor": 5
}
